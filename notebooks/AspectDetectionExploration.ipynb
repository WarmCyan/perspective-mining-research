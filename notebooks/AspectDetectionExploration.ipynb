{
 "cells": [
  {
   "cell_type": "markdown",
   "metadata": {},
   "source": [
    "# Aspect Detection Exploration\n",
    "\n",
    "Created: 2019.1.10  \n",
    "Updated: 2019.1.10"
   ]
  },
  {
   "cell_type": "markdown",
   "metadata": {},
   "source": [
    "### _An unsupervised aspect detection model for sentiment analysis of reviews_\n",
    "\n",
    "It looks like they start with a \"seed set\" of aspects (the seed set is found unsupervised??)\n",
    "\n",
    "It iteratively bootstraps (and clusters?) to find better final aspect list\n",
    "\n",
    "Use a generalized version of an FLR method to \"rank aspects and select important ones\"  \n",
    "(\"FLR is a word scoring method that uses internal structures and frequencies of candidates\")"
   ]
  },
  {
   "cell_type": "markdown",
   "metadata": {},
   "source": [
    "### _An Unsupervised Neural Attention Model for Aspect Extraction_\n",
    "(Note that there is code for this paper at https://github.com/ruidan/Unsupervised-Aspect-Extraction)\n",
    "\n",
    "Interestingly they note that LDA is frequently used for aspect extraction (but go on to state why this generally doesn't work very well)\n",
    "\n",
    "Does this work handle multi-word aspects?"
   ]
  }
 ],
 "metadata": {
  "kernelspec": {
   "display_name": "Python 3",
   "language": "python",
   "name": "python3"
  },
  "language_info": {
   "codemirror_mode": {
    "name": "ipython",
    "version": 3
   },
   "file_extension": ".py",
   "mimetype": "text/x-python",
   "name": "python",
   "nbconvert_exporter": "python",
   "pygments_lexer": "ipython3",
   "version": "3.7.2"
  }
 },
 "nbformat": 4,
 "nbformat_minor": 2
}
