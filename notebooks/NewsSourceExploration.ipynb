{
 "cells": [
  {
   "cell_type": "code",
   "execution_count": 53,
   "metadata": {},
   "outputs": [],
   "source": [
    "import json\n",
    "import pandas as pd\n",
    "from tqdm import tqdm_notebook as tqdm"
   ]
  },
  {
   "cell_type": "code",
   "execution_count": 26,
   "metadata": {},
   "outputs": [],
   "source": [
    "# experiment index 7\n",
    "preprocess = \"7b7e2a8bf760ee2ed84b4797c7161d73\"\n",
    "vectorize = \"dae182a800a858f348333ea1587d70cd\"\n",
    "predict = \"2ac72005599c3cd46bc320dbdb74cd06\"\n",
    "\n",
    "data_path = \"../data/cache/experiments/\""
   ]
  },
  {
   "cell_type": "code",
   "execution_count": 19,
   "metadata": {},
   "outputs": [],
   "source": [
    "# grab the aspect data\n",
    "with open(data_path + \"vec_\" + vectorize + \"/aspects/aspects.json\", 'r') as in_file:\n",
    "    aspect_data = json.load(in_file)"
   ]
  },
  {
   "cell_type": "code",
   "execution_count": 20,
   "metadata": {},
   "outputs": [],
   "source": [
    "# grab the as_vecs\n",
    "with open(data_path + \"vec_\" + vectorize + \"/as_vec/doc_as_vectors.json\", 'r') as in_file:\n",
    "    as_vec = json.load(in_file)"
   ]
  },
  {
   "cell_type": "code",
   "execution_count": 23,
   "metadata": {},
   "outputs": [],
   "source": [
    "# and finally grab the articles themselves\n",
    "articles = pd.read_json(data_path + \"preproc_\" + preprocess + \"/documents.json\")"
   ]
  },
  {
   "cell_type": "markdown",
   "metadata": {},
   "source": [
    "So first we need to group all the as_vec for each particular source"
   ]
  },
  {
   "cell_type": "code",
   "execution_count": 25,
   "metadata": {},
   "outputs": [
    {
     "data": {
      "text/plain": [
       "Breitbart              608\n",
       "Washington Post        597\n",
       "NPR                    546\n",
       "Guardian               536\n",
       "Atlantic               535\n",
       "Vox                    460\n",
       "New York Times         445\n",
       "Reuters                423\n",
       "National Review        330\n",
       "New York Post          201\n",
       "Business Insider       124\n",
       "Talking Points Memo    108\n",
       "Fox News                87\n",
       "Name: source, dtype: int64"
      ]
     },
     "execution_count": 25,
     "metadata": {},
     "output_type": "execute_result"
    }
   ],
   "source": [
    "articles.source.value_counts()"
   ]
  },
  {
   "cell_type": "code",
   "execution_count": 55,
   "metadata": {},
   "outputs": [],
   "source": [
    "source_groups = articles.groupby(['source'])\n",
    "source_as_vec = {}\n",
    "\n",
    "for group in source_groups:\n",
    "    # group[0] is the name\n",
    "    # group[1] is the dataframe with all articles from that source\n",
    "    \n",
    "    # create key for this source in the source_as_vec dictionary\n",
    "    source_name = group[0]\n",
    "    source_as_vec[source_name] = []\n",
    "    \n",
    "    for index in group[1].index:\n",
    "        #print(index)\n",
    "        source_as_vec[source_name].append(as_vec[index])"
   ]
  },
  {
   "cell_type": "code",
   "execution_count": null,
   "metadata": {},
   "outputs": [],
   "source": [
    "source_as_vec"
   ]
  }
 ],
 "metadata": {
  "kernelspec": {
   "display_name": "Python 3",
   "language": "python",
   "name": "python3"
  },
  "language_info": {
   "codemirror_mode": {
    "name": "ipython",
    "version": 3
   },
   "file_extension": ".py",
   "mimetype": "text/x-python",
   "name": "python",
   "nbconvert_exporter": "python",
   "pygments_lexer": "ipython3",
   "version": "3.7.4"
  }
 },
 "nbformat": 4,
 "nbformat_minor": 2
}
